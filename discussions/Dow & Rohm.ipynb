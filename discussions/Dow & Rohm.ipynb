{
 "cells": [
  {
   "cell_type": "markdown",
   "id": "cbc58098",
   "metadata": {},
   "source": [
    "# Dow \\& Rohm Strategy and Incentive\n",
    "\n",
    "### Why does Dow want to buy Rohm and Haas (hereafter simply Rohm)?\n",
    "\n",
    "Dow is seeking higher growth, and Rohm has been a long-term target. Dow’s growth strategy relies on reducing their reliance on basic chemicals, (partly through the planned joint venture with KPC,) while simultaneously increasing their production of specialty chemicals. Dow is also interested in preventing their competitor, BASF from acquiring the firm."
   ]
  },
  {
   "cell_type": "markdown",
   "id": "076014b1",
   "metadata": {},
   "source": [
    "### How comparable are Dow and Rohm?\n",
    "\n",
    "Rohm has higher gross margins, though lower net margins and asset turnover. Though the book leverage is comparable, the market leverage2 for Dow has spiked due to a plummeting value of market equity.\n",
    "\n",
    "Furthermore, the fraction of 2008 EBIT going to NWC is much lower for Rohm. Dow’s AR spiked in 2008, among other needs for NWC. Still, they have similar cash conversion cycles (shown annually.)"
   ]
  },
  {
   "cell_type": "markdown",
   "id": "1c99057e",
   "metadata": {},
   "source": [
    "### Since the initial agreement, what has happened to put the deal at risk?\n",
    "\n",
    "The financial crisis of 2008 has caused three challenges to the deal:\n",
    "\n",
    "* The joint venture with KPC is no longer expected to happen, which means Dow will not\n",
    "be receiving nearly \\$8 billion in cash from the divestment of some plants.\n",
    "\n",
    "* The forecasted performance for Rohm is considerably worse, as outlined in Exhibit 7a.\n",
    "Various income metrics are notably lower, including EBITDA, EBIT, Earnings, and FCF.\n",
    "\n",
    "*  Dow’s own financial situation is weaker, given the stressed markets and economic recession. The fourth quarter earnings report is a loss over \\$1bn, the share price is down roughly 50\\%, and the debt rating dropped to BBB, (pg 6.)"
   ]
  },
  {
   "cell_type": "markdown",
   "id": "ca2caf79",
   "metadata": {},
   "source": [
    "### Outline the incentives of Dow and Rohm to (1) close the original deal, (2) renegotiate the deal. Consider the perspectives of equity holders, debt holders, and management.\n",
    "\n",
    "Dow faces numerous conflicting incentives. \n",
    "* Closing\n",
    "    * Dow has what looks to be a weak legal case for getting out of the deal. They have put a lot of their reputation on closing it.\n",
    "    * Dow has been interested in acquiring this unique asset for a long time, and it may present a significant real option value that is worth the short-term financial stress.\n",
    "    * Dow has a track record of realizing significant synergies in past acquisitions. • \n",
    "    \n",
    "* Renegotiating\n",
    "    * It was a rich bid even before the crisis, and even with the cash to be realized from the failed joint venture. Now with the revised financials, it looks like a huge overpay.\n",
    "    * Dow no longer has capacity for the deal. The cash from the joint venture is no longer a possibility, their credit rating has been lowered, and defaulting on the bridge loan could trigger covenants on all their debt, leading to bankruptcy.\n",
    "    * Dow will have to cut their dividend to fund the acquisition—something management has staked its reputation on not doing.\n",
    "\n",
    "* Rohm\n",
    "    * Rohm’s shareholders and management are aligned in their incentives to wanting this deal. It is a much richer valuation than the stock was even before the crisis, and certainly now.\n",
    "    * Their legal case is strong, and thus the fiduciary duty may be to insist on the full premium.\n",
    "    * Debt holders, (as well as employees and suppliers,) of Rohm will prefer a renegotiation to ensure that the financial viability of the joint venture is not put at risk.\n",
    "    * Were this an all-stock deal, Rohm’s shareholders and management would be much more aligned with Dow."
   ]
  },
  {
   "cell_type": "markdown",
   "id": "5ed70466",
   "metadata": {},
   "source": [
    "# 2. Market M\\&A Response\n",
    "\n",
    "\n",
    "### Based on the price of Rohm's shares, what is the market-implied probability that the original deal will close?\n",
    "\n",
    "The market-implied probability of closing is\n",
    "$\n",
    "\\begin{align*}\n",
    "p = \\frac{P_{\\text{Rohm},1} - P_{\\text{Rohm},0}}{P_{\\text{Rohm},\\text{bid}} - P_{\\text{Rohm},0}}\n",
    "\\end{align*}\n",
    "$\n",
    "\n",
    "The pre-announcement price is given in the text, though not explicitly. The current (Feb, 2009) price is also given in the text. Accordingly, we get the following result\n",
    "\n",
    "| Price             | Date          | Source  | Rohm   | Dow    |\n",
    "|-------------------|---------------|---------|--------|--------|\n",
    "| Pre-Announcement  | July 9, 2008  | pg 3    | 44.83  | 33.96  |\n",
    "| Bid               | July 10, 2008 | pg 3, 8 | 78.00  |        |\n",
    "| Post-Announcement | July 10, 2008 | pg 3    | 73.62  |  32.52 |\n",
    "| Time of Case      | Feb 3, 2009   | pg 8.   | 54.00  | 11.00  |\n",
    "| **Prob. of Closing**  |               |         | **27.65\\%**|        |"
   ]
  },
  {
   "cell_type": "markdown",
   "id": "bf9574e0",
   "metadata": {},
   "source": [
    "### At the time the merger was announced, (July 2008,) did the market view this as a value-creating deal? \n",
    "\n",
    "Based on the shares outstanding listed in the Income Statement, this implies that upon the announcement, \n",
    "* Dow's market cap went down\n",
    "* Rohm's went up, and on net\n",
    "* the joint value went up. \n",
    "\n",
    "This is consistent with the general result that the acquiring firm tends to lose value in an acquisition, while the target gains.\n",
    "\n",
    "The fact that the joint value is higher immediately after the announcement shows the market does find it credible that there are some synergies in combining the firms."
   ]
  },
  {
   "cell_type": "markdown",
   "id": "78770490",
   "metadata": {},
   "source": [
    "### Twitter Bid\n",
    "\n",
    "On April 14, 2022, Elon Musk made a bid on Twitter that was announced before the market opened.\n",
    "* Did the market view it as a serious bid?\n",
    "* Use the same formula as above to analyze the opening stock price on April 14.\n",
    "\n",
    "\n",
    "| Price                  | Date          | Source  | Twitter| Tesla  |\n",
    "|------------------------|---------------|---------|--------|--------|\n",
    "| Before Minority Stake  | April 1       | Close   | 39.31  | 1084.59|\n",
    "| Before Bid             | April 13      | Close   | 45.86  | 1022.37|\n",
    "| Bid                    | April 14      | Musk    | 54.20  |  |\n",
    "| After Bid              | April 14      | Open    | 48.36  |  999.29|\n",
    "| **Prob. of Closing** (pre-bid)   | April 14              |         | **29.98\\%**|        |\n",
    "| **Prob. of Closing** (pre-stake)   | April 14              |         | **60.78\\%**|        |"
   ]
  },
  {
   "cell_type": "code",
   "execution_count": 8,
   "id": "c870aa65",
   "metadata": {
    "scrolled": true
   },
   "outputs": [
    {
     "data": {
      "text/plain": [
       "'Probability of acquisition (assuming baseline price is pre-bid): 29.98%'"
      ]
     },
     "metadata": {},
     "output_type": "display_data"
    },
    {
     "data": {
      "text/plain": [
       "'Probability of acquisition (assuming baseline price is pre-stake): 60.78%'"
      ]
     },
     "metadata": {},
     "output_type": "display_data"
    }
   ],
   "source": [
    "prob_bid = (48.36 - 45.86)/(54.20 - 45.86)\n",
    "prob_stake = (48.36 - 39.31)/(54.20 - 39.31)\n",
    "\n",
    "display(f'Probability of acquisition (assuming baseline price is pre-bid): {prob_bid:.2%}')\n",
    "display(f'Probability of acquisition (assuming baseline price is pre-stake): {prob_stake:.2%}')"
   ]
  },
  {
   "cell_type": "markdown",
   "id": "5475cbb5",
   "metadata": {},
   "source": [
    "# Epilogue\n",
    "\n",
    "### The deal went through in Summer 2009\n",
    "* Only modest changes to the deal.\n",
    "* For the most part, Rohm won.\n",
    "* Dow was able to handle the debt load and recover\n",
    "* Dow spun out elements of the chemical business in 2017 (and subsequent spin-off in 2019.)\n",
    "\n",
    "https://www.reuters.com/article/rohm-dow/update-5-dow-rohm-settle-dispute-merger-to-go-through-idUSN0944803720090309\n",
    "\n",
    "\n",
    "### Very similar to another chemical company acquisition happening at the same time!\n",
    "\n",
    "* Apollo agreed to buy Huntsman in summer 2007 in a deal heavily financed with debt.\n",
    "* Credit crisis hit, and Huntsman's stock tanked.\n",
    "* Apollo backed out and tried to legally end the bid.\n",
    "* Huntsman sued, won the initial legal battles, and settled for ~\\$1bn\n",
    "\n",
    "https://www.huntsman.com/news/media-releases/detail/203/huntsman-terminates-merger-agreement-and-settles-with"
   ]
  }
 ],
 "metadata": {
  "hide_input": false,
  "kernelspec": {
   "display_name": "Python 3 (ipykernel)",
   "language": "python",
   "name": "python3"
  },
  "language_info": {
   "codemirror_mode": {
    "name": "ipython",
    "version": 3
   },
   "file_extension": ".py",
   "mimetype": "text/x-python",
   "name": "python",
   "nbconvert_exporter": "python",
   "pygments_lexer": "ipython3",
   "version": "3.9.7"
  }
 },
 "nbformat": 4,
 "nbformat_minor": 5
}
